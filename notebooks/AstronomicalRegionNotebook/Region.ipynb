{
 "cells": [
  {
   "cell_type": "markdown",
   "id": "9f44d474",
   "metadata": {},
   "source": [
    "## Astronomical Region Notebook\n",
    "This notebook illustrates how to retrieve images of arbitrary-sized regions of the sky from on-line image databases, overlay a list of sources (in this case from SIMBAD) and load this into an interactive image/catalog viewer."
   ]
  },
  {
   "cell_type": "markdown",
   "id": "3a227d14",
   "metadata": {},
   "source": [
    "## Setup\n",
    "Import some packages and define a utility function."
   ]
  },
  {
   "cell_type": "code",
   "execution_count": 1,
   "id": "a9ec6650",
   "metadata": {},
   "outputs": [],
   "source": [
    "# Allways run this cell.\n",
    "\n",
    "import os\n",
    "import urllib.request\n",
    "from astropy.io import ascii\n",
    "\n",
    "\n",
    "# General function for retrieving URL to file\n",
    "\n",
    "def retrieve_url_to_file(url, filename):\n",
    "    \n",
    "    try:\n",
    "        urllib.request.urlretrieve(url, filename)\n",
    "        print(f'Successfully downloaded {url} to {filename}')\n",
    "    except Exception as e:\n",
    "        print(f'ERROR: {e}')"
   ]
  },
  {
   "cell_type": "markdown",
   "id": "22549c85",
   "metadata": {},
   "source": [
    "## Parameters and Object Lookup"
   ]
  },
  {
   "cell_type": "code",
   "execution_count": 2,
   "id": "692bd477",
   "metadata": {
    "scrolled": true
   },
   "outputs": [
    {
     "name": "stdout",
     "output_type": "stream",
     "text": [
      "object:     Messier 17\n",
      "region:     275.1958333333333 -16.171666666666663 0.5\n",
      "workspace:  /Users/jcg/data/Messier_17\n",
      "ERROR: [Errno 17] File exists: '/Users/jcg/data/Messier_17/fits'\n"
     ]
    }
   ],
   "source": [
    "from astroquery.simbad import Simbad\n",
    "\n",
    "object    = 'Messier 17'\n",
    "radius    = 0.5\n",
    "workspace = ('~/data/' + object).replace(' ', '_')\n",
    "\n",
    "workspace = os.path.expanduser(workspace)\n",
    "\n",
    "result = Simbad.query_object(object)\n",
    "\n",
    "ra  = result[0]['ra']\n",
    "dec = result[0]['dec']\n",
    "\n",
    "print('object:    ', object)\n",
    "print('region:    ', ra, dec, radius)\n",
    "print('workspace: ', workspace)\n",
    "\n",
    "try:\n",
    "    os.makedirs(workspace + '/fits')\n",
    "    os.makedirs(workspace + '/tbl')\n",
    "\n",
    "except FileExistsError as e:\n",
    "    print('ERROR:', str(e))\n",
    "    "
   ]
  },
  {
   "cell_type": "markdown",
   "id": "ab5f3bf8",
   "metadata": {},
   "source": [
    "## HiPS Map Cutouts\n",
    "\n",
    "HiPS maps provide a heirarchy of resolutions and some of them cover the whole sky at reasonably high maximum resolutions (for instance, 2MASS with three near infrared wavelengths at 1 arcsecond).  Using a cutout service at CDS, we can extract data that can be turned into a color composite suitable for interactive visualization."
   ]
  },
  {
   "cell_type": "code",
   "execution_count": 3,
   "id": "c6a5f4f2",
   "metadata": {},
   "outputs": [
    {
     "name": "stdout",
     "output_type": "stream",
     "text": [
      "Successfully downloaded http://alasky.cds.unistra.fr/hips-image-services/hips2fits?width=1500&height=1500&projection=TAN&fov=1.0&ra=275.1958333333333&dec=-16.171666666666663&hips=CDS/P/2MASS/J to /Users/jcg/data/Messier_17/fits/2MASSJ.fits\n",
      "Successfully downloaded http://alasky.cds.unistra.fr/hips-image-services/hips2fits?width=1500&height=1500&projection=TAN&fov=1.0&ra=275.1958333333333&dec=-16.171666666666663&hips=CDS/P/2MASS/H to /Users/jcg/data/Messier_17/fits/2MASSH.fits\n",
      "Successfully downloaded http://alasky.cds.unistra.fr/hips-image-services/hips2fits?width=1500&height=1500&projection=TAN&fov=1.0&ra=275.1958333333333&dec=-16.171666666666663&hips=CDS/P/2MASS/K to /Users/jcg/data/Messier_17/fits/2MASSK.fits\n"
     ]
    }
   ],
   "source": [
    "\n",
    "url = 'http://alasky.cds.unistra.fr/hips-image-services/hips2fits'\n",
    "url = url + '?width=1500&height=1500'\n",
    "url = url + '&projection=TAN'\n",
    "url = url + '&fov=' + str(2*radius)\n",
    "url = url + '&ra=' + str(ra)\n",
    "url = url + '&dec=' + str(dec)\n",
    "\n",
    "\n",
    "# J band\n",
    "\n",
    "imgurl = url + '&hips=CDS/P/2MASS/J'\n",
    "\n",
    "file = '2MASSJ.fits'\n",
    "\n",
    "fimg = os.path.expanduser(workspace) + '/fits/' + file\n",
    "\n",
    "retrieve_url_to_file(imgurl, fimg)\n",
    "\n",
    "\n",
    "# H band\n",
    "\n",
    "imgurl = url + '&hips=CDS/P/2MASS/H'\n",
    "\n",
    "file = '2MASSH.fits'\n",
    "\n",
    "fimg = os.path.expanduser(workspace) + '/fits/' + file\n",
    "\n",
    "retrieve_url_to_file(imgurl, fimg)\n",
    "\n",
    "\n",
    "# K band\n",
    "\n",
    "imgurl = url + '&hips=CDS/P/2MASS/K'\n",
    "\n",
    "file = '2MASSK.fits'\n",
    "\n",
    "fimg = os.path.expanduser(workspace) + '/fits/' + file\n",
    "\n",
    "retrieve_url_to_file(imgurl, fimg)\n"
   ]
  },
  {
   "cell_type": "markdown",
   "id": "6050df62",
   "metadata": {},
   "source": [
    "## SIMBAD Region Search\n",
    "\n",
    "Frequently, it helps to compare the image with source lists. There are thousands of these available via TAP (Table Access Protocol) services. But rather than track these down individually, here we will use SIMBAD to get a composite list and then extract subsets either based on the source name (<i>i.e.</i>, from specific catalogs) or by object type."
   ]
  },
  {
   "cell_type": "code",
   "execution_count": 4,
   "id": "d3d6270e",
   "metadata": {},
   "outputs": [
    {
     "name": "stderr",
     "output_type": "stream",
     "text": [
      "WARNING: Table metadata keyword(s) ['ID', 'name'] were not written.  IPAC metadata must be in the form {{'keywords':{{'keyword': {{'value': value}} }} [astropy.io.ascii.ipac]\n"
     ]
    },
    {
     "name": "stdout",
     "output_type": "stream",
     "text": [
      "3471 records written to /Users/jcg/data/Messier_17/tbl/simbad.tbl\n"
     ]
    }
   ],
   "source": [
    "from astropy.table import Table\n",
    "from astroquery.simbad import Simbad\n",
    "import pandas as pd\n",
    "\n",
    "simbad = Simbad()\n",
    "\n",
    "simbad.add_votable_fields('otype')\n",
    "\n",
    "simbad.ROW_LIMIT = 100000\n",
    "\n",
    "simdata = simbad.query_region(object, radius=str(radius)+'d')\n",
    "\n",
    "length = len(simdata)\n",
    "\n",
    "ftbl = workspace + '/tbl/simbad.tbl'\n",
    "\n",
    "simdata.write(ftbl, format='ipac', overwrite=True)\n",
    "\n",
    "print(f'{length} records written to {ftbl}')\n",
    "\n",
    "simbad_df = simdata.to_pandas()"
   ]
  },
  {
   "cell_type": "markdown",
   "id": "d4442bce",
   "metadata": {},
   "source": [
    "## Young Stellar Objects from the SIMBAD List\n",
    "The SIMBAD list for this region includes a large number of catalogs, including a few aimed at Young Stellar Objects (YSOs).  We next extract three of these: the Spitzer/IRAC Candidate YSO (SPICY) catalog; the APEX Telescope Large Area Survey of the Galaxy (AGAL); and CXOU, a collection of \"unregistered\" Chandra X-ray Observatory observations (occasional sources published by individuals).  We also extract a list of all young stellar objects."
   ]
  },
  {
   "cell_type": "code",
   "execution_count": 5,
   "id": "1cb76de4",
   "metadata": {},
   "outputs": [
    {
     "name": "stdout",
     "output_type": "stream",
     "text": [
      "64 records written to /Users/jcg/data/Messier_17/tbl/spicy.tbl\n",
      "56 records written to /Users/jcg/data/Messier_17/tbl/agal.tbl\n",
      "501 records written to /Users/jcg/data/Messier_17/tbl/cxou.tbl\n",
      "1003 records written to /Users/jcg/data/Messier_17/tbl/yso.tbl\n"
     ]
    }
   ],
   "source": [
    "# SPICY\n",
    "\n",
    "spicy_df = simbad_df[simbad_df['main_id'].str.contains('SPICY')]\n",
    "\n",
    "table = Table.from_pandas(spicy_df)\n",
    "\n",
    "length = len(spicy_df)\n",
    "\n",
    "ftbl = workspace + '/tbl/spicy.tbl'\n",
    "\n",
    "table.write(ftbl, format='ipac', overwrite=True)\n",
    "\n",
    "print(f'{length} records written to {ftbl}')\n",
    "\n",
    "\n",
    "# AGAL\n",
    "\n",
    "agal_df = simbad_df[simbad_df['main_id'].str.contains('AGAL')]\n",
    "\n",
    "table = Table.from_pandas(agal_df)\n",
    "\n",
    "length = len(agal_df)\n",
    "\n",
    "ftbl = workspace + '/tbl/agal.tbl'\n",
    "\n",
    "table.write(ftbl, format='ipac', overwrite=True)\n",
    "\n",
    "print(f'{length} records written to {ftbl}')\n",
    "\n",
    "\n",
    "# CXOU\n",
    "\n",
    "cxou_df = simbad_df[simbad_df['main_id'].str.contains('CXOU')]\n",
    "\n",
    "table = Table.from_pandas(cxou_df)\n",
    "\n",
    "length = len(cxou_df)\n",
    "\n",
    "ftbl = workspace + '/tbl/cxou.tbl'\n",
    "\n",
    "table.write(ftbl, format='ipac', overwrite=True)\n",
    "\n",
    "print(f'{length} records written to {ftbl}')\n",
    "\n",
    "\n",
    "\n",
    "# Young Stellar Objects by Type\n",
    "\n",
    "yso_df = simbad_df[simbad_df['otype'].str.contains('Y*O')]\n",
    "\n",
    "table = Table.from_pandas(yso_df)\n",
    "\n",
    "length = len(yso_df)\n",
    "\n",
    "ftbl = workspace + '/tbl/yso.tbl'\n",
    "\n",
    "table.write(ftbl, format='ipac', overwrite=True)\n",
    "\n",
    "print(f'{length} records written to {ftbl}')\n",
    "\n"
   ]
  },
  {
   "cell_type": "markdown",
   "id": "12f33ac9",
   "metadata": {},
   "source": [
    "### Defining the Layout of the Display\n",
    "\n",
    "Unless we tell it, there is no way for the viewer to decide what data from the workspace to display, how to stretch the image (or images in the case of 3-color data), what symbols to use for point source catalogs (and their scaling an color), whether to show coordinate grids, and so on.\n",
    "\n",
    "Some displays can be handled with defaults but this one is a little too complicated for that to work well.  So we will go the other route here of defining everything ourselves through a JSON layout file. For more information on mViewer, see http://montage.ipac.caltech.edu/mViewer.\n",
    "\n",
    "In this case, we are not going to show the YSO table initially in favor of just showing the subsets from specific catalogs but you are free to change that."
   ]
  },
  {
   "cell_type": "code",
   "execution_count": 6,
   "id": "09e79056",
   "metadata": {},
   "outputs": [
    {
     "name": "stdout",
     "output_type": "stream",
     "text": [
      "JSON layout written to /Users/jcg/data/Messier_17/layout.json\n"
     ]
    }
   ],
   "source": [
    "import json\n",
    "\n",
    "layout = {\n",
    "  \"Image Label\": object + ' (' + str(radius) + ' degrees)',\n",
    "\n",
    "  \"Color\":\n",
    "  [\n",
    "    {\n",
    "      \"Color\": \"Blue\",\n",
    "      \"File\": \"fits/2MASSJ.fits\",\n",
    "      \"Stretch Mode\": \"Gaussian-log\",\n",
    "      \"Min\":  \"-0.5\", \"Min Units\": \"sigma\",\n",
    "      \"Max\": \"max\", \"Max Units\": \"sigma\"\n",
    "    },\n",
    "\n",
    "    {\n",
    "      \"Color\": \"Green\",\n",
    "      \"File\": \"fits/2MASSH.fits\",\n",
    "      \"Stretch Mode\": \"Gaussian-log\",\n",
    "      \"Min\":  \"-0.5\", \"Min Units\": \"sigma\",\n",
    "      \"Max\": \"max\", \"Max Units\": \"sigma\"\n",
    "    },\n",
    "\n",
    "    {\n",
    "      \"Color\": \"Red\",\n",
    "      \"File\": \"fits/2MASSK.fits\",\n",
    "      \"Stretch Mode\": \"Gaussian-log\",\n",
    "      \"Min\":  \"-0.5\", \"Min Units\": \"sigma\",\n",
    "      \"Max\": \"max\", \"Max Units\": \"sigma\"\n",
    "    }\n",
    "  ],\n",
    "\n",
    "\n",
    "  \"Overlays\":\n",
    "  [\n",
    "    {\"Type\": \"Catalog\", \"Color\": \"ffa0a0\", \"File\": \"tbl/spicy.tbl\", \"Size of Ref Value\": 2, \"Symbol\": \"box\"},\n",
    "    {\"Type\": \"Catalog\", \"Color\": \"00ffff\", \"File\": \"tbl/agal.tbl\",  \"Size of Ref Value\": 2, \"Symbol\": \"circle\"},\n",
    "    {\"Type\": \"Catalog\", \"Color\": \"ffffff\",  \"File\": \"tbl/cxou.tbl\",  \"Size of Ref Value\": 1, \"Symbol\": \"plus\"},\n",
    "\n",
    "    {\"Type\": \"Eq grid\", \"Color\": \"lightgray\"}\n",
    "  ]\n",
    "}\n",
    "\n",
    "\n",
    "filename = workspace + \"/layout.json\"\n",
    "\n",
    "with open(filename, 'w') as file:\n",
    "    json.dump(layout, file, indent=2)\n",
    "\n",
    "print(\"JSON layout written to\", filename)"
   ]
  },
  {
   "cell_type": "markdown",
   "id": "2f33bc69",
   "metadata": {},
   "source": [
    "## Region Vizualization\n",
    "\n",
    "Please read this description before running the next cell.  The 'koaViewer' app helps you visualize the data you have downloaded into the workspace.  This workspace contains a 'tbl' subdirectory with all the table files you have downloaded (both source tables and image metadata tables) and a 'fits' directory with a FITS image file or files.  The data can easily get too involved for a single simple display (though what we have done through this Notebook is simple enough), but even here someone has to specify things like which tables to actually display, the colors of overlays in the image display, symbol sizes, <i>etc.</i>\n",
    "\n",
    "So the actual image display gets defined by a JSON structure file ('layout.json') in the top level of the workspace.  \n",
    "\n",
    "There are three ways to build this JSON.  If no layout.json exists when koaViewer starts up, it will analyze the contents of the workspace and take a guess at the structure using a few simple rules.  This is likely to be sub-optimal.  Alternatively, knowing what we have done in the Notebook to construct the workspace, we can construct the JSON manually (<i>i.e.,</i> setting up the JSON in a Notebook cell).  Finally, once we have a starting point, the koaViewer application has layout editing pop-ups where we can fine tune the details (like color and column-base symbol sizes).\n",
    "\n",
    "Any changes to the this Notebook (such as the location/search radius in the first step) can affect how many tables there are to display, hard-coded JSON is probably inadequate, so we will go with first option and let koaViewer define the JSON we start with.\n",
    "\n",
    "To start koaViewer, run the next cell and activate the link it produces."
   ]
  },
  {
   "cell_type": "code",
   "execution_count": 7,
   "id": "74fdb47f",
   "metadata": {},
   "outputs": [
    {
     "name": "stdout",
     "output_type": "stream",
     "text": [
      "Dash app running on http://127.0.0.1:54593/\n"
     ]
    }
   ],
   "source": [
    "from koaviewer import koaViewer\n",
    "\n",
    "viewer = koaViewer()\n",
    "\n",
    "viewer.run(workspace)"
   ]
  },
  {
   "cell_type": "code",
   "execution_count": null,
   "id": "9c9f0181",
   "metadata": {},
   "outputs": [],
   "source": []
  }
 ],
 "metadata": {
  "kernelspec": {
   "display_name": "Python 3 (ipykernel)",
   "language": "python",
   "name": "python3"
  },
  "language_info": {
   "codemirror_mode": {
    "name": "ipython",
    "version": 3
   },
   "file_extension": ".py",
   "mimetype": "text/x-python",
   "name": "python",
   "nbconvert_exporter": "python",
   "pygments_lexer": "ipython3",
   "version": "3.12.7"
  }
 },
 "nbformat": 4,
 "nbformat_minor": 5
}
