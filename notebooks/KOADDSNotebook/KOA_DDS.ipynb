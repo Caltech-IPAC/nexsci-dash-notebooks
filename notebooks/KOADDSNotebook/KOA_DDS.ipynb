{
 "cells": [
  {
   "cell_type": "markdown",
   "id": "9f44d474",
   "metadata": {},
   "source": [
    "\n",
    "<img style=\"float: right;\" src=\"KOA.png\" width =500 height= 500 />\n",
    "\n",
    "\n",
    "# <font color=\"#0b5394\"> __Interactive Visualization of Keck Observations of Protostars in the $\\rho$ Ophiuchus Dark Cloud__\n",
    "\n",
    "## <font color=\"#0b5394\"> __John C. Good, Rosemary Moseley, G Bruce Berriman, Christopher R. Gelino (Caltech/IPAC-NExScI)__\n",
    "\n",
    "### This Notebook retrieves the metadata for observations acquired at the Keck Observatory of sources in the $\\rho$ Oph Cloud measured at the Keck Observatory. The observations are overlaid on a Spitzer IRAC image, accessed from IRSA, of the $\\rho$ Oph region, along with the positions of a table of protostars downloaded from Vizier. We describe the steps in detail as an aid to editing the Notebook for other use cases. \n",
    "\n",
    "### The Notebook takes advantage of the Keck Observatory Archive (KOA)'s Data Discovery Service. In a few seconds,  it captures an inventory of all public observations of the $\\rho$ Oph Cloud at KOA. KOA curates all data acquired at the Keck Observatory since it began operating in 1994. \n",
    "    \n",
    "### The steps are:\n",
    "\n",
    "#### - Look up the position of Rho Oph in Simbad and define a search radius.\n",
    "#### - Find out which Keck Instruments have made observations in this region through an inventory search of the Keck Observatory Archive.\n",
    "#### - Look up a list of the Protostars in $\\rho$ Oph from Vizier.\n",
    "#### - Download from IRSA a Spitzer IRAC mosaic of $\\rho$ Oph \n",
    "#### - Define the layout of the visualization display, and finally\n",
    "#### - Create the interactive visualization\n",
    "\n"
   ]
  },
  {
   "cell_type": "markdown",
   "id": "d299db0a",
   "metadata": {},
   "source": [
    "### <font color=\"#0b5394\"> Requirements\n",
    "    \n",
    "Please install these packages:\n",
    "    \n",
    "pip install plotly   \n",
    "\n",
    "pip install dash_bootstrap_components\n",
    "\n",
    "pip install dash_ag_grid\n",
    "\n",
    "pip install mviewer\n",
    "\n",
    "pip install koaviewer\n",
    "\n",
    "pip install astroquery\n",
    "\n",
    "pip install MontagePy\n",
    "\n",
    "This notebook has been tested on Python 3.10, 3.11, 3.12, and 3.13"
   ]
  },
  {
   "cell_type": "markdown",
   "id": "3a227d14",
   "metadata": {},
   "source": [
    "\n",
    "## <font color=\"#0b5394\"> Set up\n",
    "    \n",
    "Import required packages and define a utility function.\n",
    "\n"
   ]
  },
  {
   "cell_type": "code",
   "execution_count": 88,
   "id": "a9ec6650",
   "metadata": {},
   "outputs": [],
   "source": [
    "# Always run this cell.\n",
    "\n",
    "import os\n",
    "import shutil\n",
    "import MontagePy\n",
    "import urllib.request\n",
    "from astropy.io import ascii\n",
    "from MontagePy.main import mShrink\n",
    "\n",
    "\n",
    "# General function for retrieving URL to file\n",
    "\n",
    "def retrieve_url_to_file(url, filename):\n",
    "    \n",
    "    try:\n",
    "        urllib.request.urlretrieve(url, filename)\n",
    "        print(f\"Successfully downloaded {url} to {filename}\")\n",
    "    except Exception as e:\n",
    "        print(f\"An error occurred: {e}\")"
   ]
  },
  {
   "cell_type": "markdown",
   "id": "22549c85",
   "metadata": {},
   "source": [
    "## <font color=\"#0b5394\"> Region Parameters and Creating Working Space\n",
    "By default, working space is set up as a subdirectory of '~/data'.  Change the code below if you want to use a different location."
   ]
  },
  {
   "cell_type": "code",
   "execution_count": 89,
   "id": "98ea87a2-7a1b-4e03-90a4-5cc84c73d0a5",
   "metadata": {},
   "outputs": [],
   "source": [
    "object    = 'rho Oph'\n",
    "radius    = 1.5\n",
    "workspace = ('~/data/' + object).replace(' ', '_')\n",
    "\n",
    "workspace = os.path.expanduser(workspace)\n",
    "\n",
    "# Uncomment the next few of lines if you want this script to automatically\n",
    "# remove any previous data under this object name in the workspace.\n",
    "\n",
    "#try:\n",
    "#    shutil.rmtree(workspace)\n",
    "#except:\n",
    "#    pass\n"
   ]
  },
  {
   "cell_type": "code",
   "execution_count": 90,
   "id": "4337909f-ba65-4bd4-a0db-b156d7789b67",
   "metadata": {},
   "outputs": [
    {
     "name": "stdout",
     "output_type": "stream",
     "text": [
      "Created /Users/gbb/data/rho_Oph\n"
     ]
    }
   ],
   "source": [
    "try:\n",
    "    if os.path.isdir(workspace) or os.path.isfile(workspace):\n",
    "        print('ERROR: ' + workspace + ' already exists.  Delete before continuing.')\n",
    "    else:\n",
    "        os.makedirs(workspace + '/tbl')\n",
    "        os.makedirs(workspace + '/fits')\n",
    "        \n",
    "        print('Created ' + workspace)\n",
    "except:\n",
    "    print('ERROR creating workspace: ' + workspace)\n",
    "    "
   ]
  },
  {
   "cell_type": "markdown",
   "id": "9578cc94-630d-46d0-94fa-7e7892270929",
   "metadata": {},
   "source": [
    "## <font color=\"#0b5394\"> Object Lookup\n",
    "Look up the position of Rho Oph in Simbad and define a search radius. This example uses a radius of 0.5 degrees. Define a workspace to store query results."
   ]
  },
  {
   "cell_type": "code",
   "execution_count": 91,
   "id": "692bd477",
   "metadata": {},
   "outputs": [
    {
     "name": "stdout",
     "output_type": "stream",
     "text": [
      "object:     rho Oph\n",
      "region:     246.39632358927884 -23.44717083027709 1.5\n",
      "workspace:  /Users/gbb/data/rho_Oph\n"
     ]
    }
   ],
   "source": [
    "from astroquery.simbad import Simbad\n",
    "\n",
    "result = Simbad.query_object(object)\n",
    "\n",
    "ra  = result[0]['ra']\n",
    "dec = result[0]['dec']\n",
    "\n",
    "print('object:    ', object)\n",
    "print('region:    ', ra, dec, radius)\n",
    "print('workspace: ', workspace)"
   ]
  },
  {
   "cell_type": "markdown",
   "id": "ab5f3bf8",
   "metadata": {},
   "source": [
    "## <font color=\"#0b5394\"> Search the Keck Observatory Archive holdings.\n",
    "\n",
    "Retrieves the metadata of all observations archived at KOA\n",
    "\n",
    "The KOA data discovery service is accessed directly via URL, and requires ra, dec and radius in degrees. It also supports a time range, not used here).  The results are written to the workspace as IPAC column delimited files and as CSV files. In this example, eleven Keck instruments have made observations of $\\rho$ Oph"
   ]
  },
  {
   "cell_type": "code",
   "execution_count": 92,
   "id": "c6a5f4f2",
   "metadata": {},
   "outputs": [
    {
     "name": "stdout",
     "output_type": "stream",
     "text": [
      "Successfully downloaded https://koa.ipac.caltech.edu/cgi-bin/mSearch/nph-mSearch?ra=246.39632358927884&dec=-23.44717083027709&radius=1.5&tmin=-1.e9&tmax=1.e9 to /Users/gbb/data/rho_Oph/tbl/counts.tbl\n",
      "identifier count\n",
      "---------- -----\n",
      "    DEIMOS     7\n",
      "       ESI     2\n",
      "     HIRES   150\n",
      "      LRIS   549\n",
      "       LWS   195\n",
      "   MOSFIRE    61\n",
      "     NIRC2 12824\n",
      "      NIRC  1933\n",
      "     NIRES   124\n",
      "   NIRSPEC 21809\n",
      "    OSIRIS  1017\n",
      "    GUIDER  1384\n",
      "Successfully downloaded https://koa.ipac.caltech.edu/cgi-bin/mSearch/nph-mSearch?ra=246.39632358927884&dec=-23.44717083027709&radius=1.5&tmin=-1.e9&tmax=1.e9&catalog=deimos to /Users/gbb/data/rho_Oph/tbl/deimos.tbl\n",
      "Successfully downloaded https://koa.ipac.caltech.edu/cgi-bin/mSearch/nph-mSearch?ra=246.39632358927884&dec=-23.44717083027709&radius=1.5&tmin=-1.e9&tmax=1.e9&catalog=esi to /Users/gbb/data/rho_Oph/tbl/esi.tbl\n",
      "Successfully downloaded https://koa.ipac.caltech.edu/cgi-bin/mSearch/nph-mSearch?ra=246.39632358927884&dec=-23.44717083027709&radius=1.5&tmin=-1.e9&tmax=1.e9&catalog=hires to /Users/gbb/data/rho_Oph/tbl/hires.tbl\n",
      "Successfully downloaded https://koa.ipac.caltech.edu/cgi-bin/mSearch/nph-mSearch?ra=246.39632358927884&dec=-23.44717083027709&radius=1.5&tmin=-1.e9&tmax=1.e9&catalog=lris to /Users/gbb/data/rho_Oph/tbl/lris.tbl\n",
      "Successfully downloaded https://koa.ipac.caltech.edu/cgi-bin/mSearch/nph-mSearch?ra=246.39632358927884&dec=-23.44717083027709&radius=1.5&tmin=-1.e9&tmax=1.e9&catalog=lws to /Users/gbb/data/rho_Oph/tbl/lws.tbl\n",
      "Successfully downloaded https://koa.ipac.caltech.edu/cgi-bin/mSearch/nph-mSearch?ra=246.39632358927884&dec=-23.44717083027709&radius=1.5&tmin=-1.e9&tmax=1.e9&catalog=mosfire to /Users/gbb/data/rho_Oph/tbl/mosfire.tbl\n",
      "Successfully downloaded https://koa.ipac.caltech.edu/cgi-bin/mSearch/nph-mSearch?ra=246.39632358927884&dec=-23.44717083027709&radius=1.5&tmin=-1.e9&tmax=1.e9&catalog=nirc2 to /Users/gbb/data/rho_Oph/tbl/nirc2.tbl\n",
      "Successfully downloaded https://koa.ipac.caltech.edu/cgi-bin/mSearch/nph-mSearch?ra=246.39632358927884&dec=-23.44717083027709&radius=1.5&tmin=-1.e9&tmax=1.e9&catalog=nirc to /Users/gbb/data/rho_Oph/tbl/nirc.tbl\n",
      "Successfully downloaded https://koa.ipac.caltech.edu/cgi-bin/mSearch/nph-mSearch?ra=246.39632358927884&dec=-23.44717083027709&radius=1.5&tmin=-1.e9&tmax=1.e9&catalog=nires to /Users/gbb/data/rho_Oph/tbl/nires.tbl\n",
      "Successfully downloaded https://koa.ipac.caltech.edu/cgi-bin/mSearch/nph-mSearch?ra=246.39632358927884&dec=-23.44717083027709&radius=1.5&tmin=-1.e9&tmax=1.e9&catalog=nirspec to /Users/gbb/data/rho_Oph/tbl/nirspec.tbl\n",
      "Successfully downloaded https://koa.ipac.caltech.edu/cgi-bin/mSearch/nph-mSearch?ra=246.39632358927884&dec=-23.44717083027709&radius=1.5&tmin=-1.e9&tmax=1.e9&catalog=osiris to /Users/gbb/data/rho_Oph/tbl/osiris.tbl\n",
      "Successfully downloaded https://koa.ipac.caltech.edu/cgi-bin/mSearch/nph-mSearch?ra=246.39632358927884&dec=-23.44717083027709&radius=1.5&tmin=-1.e9&tmax=1.e9&catalog=guider to /Users/gbb/data/rho_Oph/tbl/guider.tbl\n"
     ]
    }
   ],
   "source": [
    "\n",
    "tblfile   = 'counts.tbl'\n",
    "\n",
    "ftbl = workspace + '/tbl/' + tblfile\n",
    "\n",
    "urlbase = 'https://koa.ipac.caltech.edu/cgi-bin/mSearch/nph-mSearch?'\n",
    "urlbase = urlbase + 'ra=' + str(ra) + '&dec=' + str(dec) \n",
    "urlbase = urlbase + '&radius=' + str(radius)\n",
    "urlbase = urlbase + '&tmin=-1.e9&tmax=1.e9'\n",
    "\n",
    "retrieve_url_to_file(urlbase, ftbl)\n",
    "\n",
    "data = ascii.read(ftbl)\n",
    "\n",
    "print(data)\n",
    "\n",
    "for row in data:\n",
    "    catalog = row['identifier'].lower()\n",
    "    \n",
    "    tblfile = catalog + '.tbl'\n",
    "\n",
    "    ftbl = workspace + '/tbl/' + tblfile \n",
    "\n",
    "    url = urlbase + '&catalog=' + catalog\n",
    "\n",
    "    retrieve_url_to_file(url, ftbl)\n"
   ]
  },
  {
   "cell_type": "markdown",
   "id": "16426c1c",
   "metadata": {},
   "source": [
    "### <font color=\"#0b5394\"> Verify tables are in output directory"
   ]
  },
  {
   "cell_type": "code",
   "execution_count": 93,
   "id": "debd876f",
   "metadata": {},
   "outputs": [
    {
     "name": "stdout",
     "output_type": "stream",
     "text": [
      "Command output:\n",
      "counts.tbl\n",
      "deimos.tbl\n",
      "esi.tbl\n",
      "guider.tbl\n",
      "hires.tbl\n",
      "lris.tbl\n",
      "lws.tbl\n",
      "mosfire.tbl\n",
      "nirc.tbl\n",
      "nirc2.tbl\n",
      "nires.tbl\n",
      "nirspec.tbl\n",
      "osiris.tbl\n",
      "\n"
     ]
    }
   ],
   "source": [
    "import subprocess\n",
    "\n",
    "result = subprocess.run([\"ls\", \"-R\", workspace + \"/tbl/\"], check=True, capture_output=True, text=True)\n",
    "print(\"Command output:\")\n",
    "print(result.stdout)"
   ]
  },
  {
   "cell_type": "markdown",
   "id": "6050df62",
   "metadata": {},
   "source": [
    "<img style=\"float: right;\" src=\"https://content.cld.iop.org/journals/0004-637X/835/1/3/revision1/apjaa51d4f2_lr.jpg\" width =300 height= 300 />\n",
    "\n",
    "\n",
    "## <font color=\"#0b5394\"> Acquire a list of the Protostars in $\\rho$ Oph\n",
    "\n",
    "Call Vizer's  VO-compliant Table Access Protocol (TAP) server to download the table of 38 protostars in Table 3 of \"218GHz obs. of embedded protostars in Ophiuchus\". Johan E. Lindberg et al (2017) ApJ 835, 3. (J/ApJ/835/3).  https://iopscience.iop.org/article/10.3847/1538-4357/835/1/3See also the Vizier page at https://cdsarc.cds.unistra.fr/viz-bin/cat/J/ApJ/835/3\n",
    "    \n",
    "The figure on the right shows the locations of these sources (Figure 2 in Lindberg et al. The red circles denote the postiions of them stars in the study, and the blue ring is the luminous source S1.\n"
   ]
  },
  {
   "cell_type": "code",
   "execution_count": 94,
   "id": "d3d6270e",
   "metadata": {},
   "outputs": [
    {
     "name": "stdout",
     "output_type": "stream",
     "text": [
      "Successfully downloaded http://tapvizier.u-strasbg.fr/TAPVizieR/tap/sync?request=doquery&lang=adql&query=select+*+from+\"J/ApJ/835/3/table1\"&format=csv to /Users/gbb/data/rho_Oph/tbl/protostars.csv\n",
      "Converted to /Users/gbb/data/rho_Oph/tbl/protostars.tbl\n"
     ]
    }
   ],
   "source": [
    "from astropy.io import ascii\n",
    "\n",
    "csvfile   = 'protostars.csv'\n",
    "tblfile   = 'protostars.tbl'\n",
    "\n",
    "fcsv = workspace + '/tbl/' + csvfile\n",
    "ftbl = workspace + '/tbl/' + tblfile\n",
    "\n",
    "url = 'http://tapvizier.u-strasbg.fr/TAPVizieR/tap/sync?'\n",
    "url = url + 'request=doquery&lang=adql&query='\n",
    "url = url + 'select+*+from+\"J/ApJ/835/3/table1\"'\n",
    "url = url + \"&format=csv\"\n",
    "\n",
    "retrieve_url_to_file(url, fcsv)\n",
    "\n",
    "\n",
    "# Convert VizieR CSV format to IPAC table\n",
    "\n",
    "data = ascii.read(fcsv)\n",
    "data.rename_column('RAJ2000', 'ra')\n",
    "data.rename_column('DEJ2000', 'dec')\n",
    "data.write(ftbl, format=\"ipac\", overwrite=True)\n",
    "\n",
    "print('Converted to', ftbl)"
   ]
  },
  {
   "cell_type": "markdown",
   "id": "c85f2bcb",
   "metadata": {},
   "source": [
    "## <font color=\"#0b5394\">Download a Spitzer IRAC mosaic of $\\rho$ Oph\n",
    "\n",
    "Be sure to wait for the download to finish.\n"
   ]
  },
  {
   "cell_type": "code",
   "execution_count": 95,
   "id": "ec6e253e",
   "metadata": {},
   "outputs": [
    {
     "name": "stdout",
     "output_type": "stream",
     "text": [
      "Successfully downloaded https://irsa.ipac.caltech.edu/data/SPITZER/Enhanced/SEIP/images/4/0015/40015561/7/40015561-87/40015561.40015561-87.IRAC.1.mosaic.fits to /Users/gbb/data/rho_Oph/fits/rhoOph_large.fits\n"
     ]
    }
   ],
   "source": [
    "file = 'rhoOph_large.fits'\n",
    "\n",
    "fimg = workspace + '/fits/' + file\n",
    "\n",
    "url = 'https://irsa.ipac.caltech.edu/data/SPITZER/Enhanced/SEIP/images/'\n",
    "url = url + '4/0015/40015561/7/40015561-87/40015561.40015561-87.IRAC.1.mosaic.fits'\n",
    "\n",
    "retrieve_url_to_file(url, fimg)\n"
   ]
  },
  {
   "cell_type": "markdown",
   "id": "fac7b298",
   "metadata": {},
   "source": [
    "### <font color=\"#0b5394\"> Shrink the Background Image\n",
    "\n",
    "It is often useful to shrink a large image for fast presentation.  In our case, the image size is 4000 x 4000 pixel, and we shrink it in both dimensions by a factor of four."
   ]
  },
  {
   "cell_type": "code",
   "execution_count": 96,
   "id": "d5c4af25",
   "metadata": {},
   "outputs": [
    {
     "data": {
      "text/plain": [
       "{'status': '0', 'time': 0.0}"
      ]
     },
     "execution_count": 96,
     "metadata": {},
     "output_type": "execute_result"
    }
   ],
   "source": [
    "infile        = 'rhoOph_large.fits'\n",
    "outfile       = 'rhoOph.fits'\n",
    "shrink_factor = 4\n",
    "\n",
    "fin  = workspace + '/fits/' + infile\n",
    "fout = workspace + '/fits/' + outfile\n",
    "\n",
    "mShrink(fin, fout, shrink_factor)"
   ]
  },
  {
   "cell_type": "markdown",
   "id": "32b49d16",
   "metadata": {},
   "source": [
    "### <font color=\"#0b5394\"> Verify files are written to the output directory"
   ]
  },
  {
   "cell_type": "code",
   "execution_count": 97,
   "id": "1411f713",
   "metadata": {
    "scrolled": true
   },
   "outputs": [
    {
     "name": "stdout",
     "output_type": "stream",
     "text": [
      "Command output:\n",
      "\u001b[34mfits\u001b[m\u001b[m\n",
      "\u001b[34mtbl\u001b[m\u001b[m\n",
      "\n",
      "/Users/gbb/data/rho_Oph/fits:\n",
      "rhoOph.fits\n",
      "rhoOph_large.fits\n",
      "\n",
      "/Users/gbb/data/rho_Oph/tbl:\n",
      "counts.tbl\n",
      "deimos.tbl\n",
      "esi.tbl\n",
      "guider.tbl\n",
      "hires.tbl\n",
      "lris.tbl\n",
      "lws.tbl\n",
      "mosfire.tbl\n",
      "nirc.tbl\n",
      "nirc2.tbl\n",
      "nires.tbl\n",
      "nirspec.tbl\n",
      "osiris.tbl\n",
      "protostars.csv\n",
      "protostars.tbl\n",
      "\n"
     ]
    }
   ],
   "source": [
    "import subprocess\n",
    "\n",
    "result = subprocess.run([\"ls\", \"-R\", workspace], check=True, capture_output=True, text=True)\n",
    "print(\"Command output:\")\n",
    "print(result.stdout)\n"
   ]
  },
  {
   "cell_type": "markdown",
   "id": "12f33ac9",
   "metadata": {},
   "source": [
    "###  <font color=\"#0b5394\"> __Define the layout of the visualization display__\n",
    "\n",
    "__Please read this description before running the next two cells__\n",
    "\n",
    "The 'koaViewer' app helps you visualize the data you have downloaded into the workspace.  This workspace contains a 'tbl' subdirectory with all the table files downloaded (source tables and image metadata tables) and a 'fits' directory with a FITS image file(s).  We need to specify which tables to display, the colors of overlays in the image display, symbol sizes, <i>etc.</i>\n",
    "The parameters of the image display is defined by a JSON structure file ('layout.json') in the top level of the workspace.  \n",
    "\n",
    "There are three ways to build the JSON file.  \n",
    "- If no layout.json exists when koaViewer starts up, it will analyze the contents of the workspace and take a guess at the structure using a few simple rules.  This is likely to be sub-optimal.\n",
    "-   Alternatively, knowing what we have done in the Notebook to construct the workspace, we can construct the JSON manually (<i>i.e.,</i> setting up the JSON in a Notebook cell).\n",
    "-   Finally, once we have a starting point, the koaViewer application has layout editing pop-ups where we can fine tune the details (such as  color and column-based symbol sizes).\n",
    "\n",
    "We define the JSON structure in the next cell."
   ]
  },
  {
   "cell_type": "code",
   "execution_count": 98,
   "id": "09e79056",
   "metadata": {},
   "outputs": [
    {
     "name": "stdout",
     "output_type": "stream",
     "text": [
      "JSON layout written to /Users/gbb/data/rho_Oph/layout.json\n"
     ]
    }
   ],
   "source": [
    "import json\n",
    "\n",
    "\n",
    "# Default image/overlay layout\n",
    "\n",
    "layout = {\n",
    "  \"Image Label\": \"rho Oph: Spitzer IRAC\",\n",
    "\n",
    "  \"Grayscale\":\n",
    "  [\n",
    "    {\n",
    "      \"File\": \"fits/rhoOph.fits\",\n",
    "      \"Color Table\": \"Grayscale\",\n",
    "      \"Stretch Mode\": \"Gaussian-log\",\n",
    "      \"Min\": \"-1.0\", \"Min Units\": \"sigma\",\n",
    "      \"Max\": \"max\", \"Max Units\": \"sigma\"\n",
    "    }\n",
    "  ],\n",
    "\n",
    "  \"Overlays\":\n",
    "  [\n",
    "    {\"Type\": \"Catalog\", \"Color\": \"ffffff\", \"File\": \"tbl/deimos.tbl\",     \"Size of Ref Value\":  3.0, \"Symbol\": \"box\"},\n",
    "    {\"Type\": \"Catalog\", \"Color\": \"ff8080\", \"File\": \"tbl/hires.tbl\",      \"Size of Ref Value\":  3.0, \"Symbol\": \"box\"},\n",
    "    {\"Type\": \"Catalog\", \"Color\": \"8080ff\", \"File\": \"tbl/lris.tbl\",       \"Size of Ref Value\":  3.0, \"Symbol\": \"box\"},\n",
    "    {\"Type\": \"Catalog\", \"Color\": \"ffff80\", \"File\": \"tbl/lws.tbl\",        \"Size of Ref Value\":  3.0, \"Symbol\": \"box\"},\n",
    "    {\"Type\": \"Catalog\", \"Color\": \"80ffff\", \"File\": \"tbl/nirc.tbl\",       \"Size of Ref Value\":  3.0, \"Symbol\": \"box\"},\n",
    "    {\"Type\": \"Catalog\", \"Color\": \"ccccff\", \"File\": \"tbl/nirc2.tbl\",      \"Size of Ref Value\":  3.0, \"Symbol\": \"box\"},\n",
    "    {\"Type\": \"Catalog\", \"Color\": \"ffbf00\", \"File\": \"tbl/osiris.tbl\",     \"Size of Ref Value\":  3.0, \"Symbol\": \"box\"},\n",
    "    {\"Type\": \"Catalog\", \"Color\": \"80ff80\", \"File\": \"tbl/esi.tbl\",        \"Size of Ref Value\":  3.0, \"Symbol\": \"box\"},\n",
    "    {\"Type\": \"Catalog\", \"Color\": \"ff80ff\", \"File\": \"tbl/nires.tbl\",      \"Size of Ref Value\":  3.0, \"Symbol\": \"box\"},\n",
    "    {\"Type\": \"Catalog\", \"Color\": \"ffaaaa\", \"File\": \"tbl/nirspec.tbl\",    \"Size of Ref Value\":  3.0, \"Symbol\": \"box\"},\n",
    "    {\"Type\": \"Catalog\", \"Color\": \"ffffff\", \"File\": \"tbl/protostars.tbl\", \"Size of Ref Value\":  5.0, \"Symbol\": \"circle\"},\n",
    "    {\"Type\": \"Eq grid\", \"Color\": \"808000\"}\n",
    "  ]\n",
    "}\n",
    "\n",
    "\n",
    "# Special check: remove any overlays where we failed to find any catalog data\n",
    "\n",
    "overlays = layout[\"Overlays\"]\n",
    "\n",
    "for overlay in overlays:\n",
    "    if overlay[\"Type\"] == \"Catalog\":\n",
    "        file = workspace + \"/\" + overlay[\"File\"]\n",
    "        if not os.path.isfile(file):\n",
    "            overlays.remove(overlay)\n",
    "        \n",
    "layout[\"Overlays\"] = overlays\n",
    "\n",
    "\n",
    "# Save the updated layout to a JSON file\n",
    "\n",
    "filename = os.path.expanduser(workspace) + \"/layout.json\"\n",
    "\n",
    "with open(filename, 'w') as file:\n",
    "    json.dump(layout, file, indent=2)\n",
    "\n",
    "print(\"JSON layout written to\", filename)\n"
   ]
  },
  {
   "cell_type": "markdown",
   "id": "2f33bc69",
   "metadata": {},
   "source": [
    "## Create the interactive visualization\n",
    "\n",
    "To start koaViewer, run the next cell and activate the link it produces to examine the visualization. "
   ]
  },
  {
   "cell_type": "code",
   "execution_count": 99,
   "id": "74fdb47f",
   "metadata": {},
   "outputs": [
    {
     "name": "stdout",
     "output_type": "stream",
     "text": [
      "Dash app running on http://127.0.0.1:51655/\n"
     ]
    }
   ],
   "source": [
    "from koaviewer import koaViewer\n",
    "\n",
    "viewer = koaViewer()\n",
    "\n",
    "viewer.run(workspace)"
   ]
  },
  {
   "cell_type": "markdown",
   "id": "0e46bd5b",
   "metadata": {},
   "source": [
    "### <font color= \"#0b5394\">Acknowledgements\n",
    "The  Keck Observatory Archive (KOA) is operated by the W. M. Keck Observatory and the NASA Exoplanet Science Institute (NExScI), Caltech, under contract with the National Aeronautics and Space Administration.\n",
    "\n",
    "Montage has been funded by the National Science Foundation under Grant Numbers ACI-1440620,1642453 and 1835379, and was previously funded by the National Aeronautics and Space Administration's Earth Science Technology Office, Computation Technologies Project, under Cooperative Agreement Number NCC5-626 between NASA and the California Institute of Technology. "
   ]
  },
  {
   "cell_type": "markdown",
   "id": "e0dcd3d5",
   "metadata": {},
   "source": [
    "### <font color=\"#0b5394\"> Need help?\n",
    "\n",
    "Contact the KOA help desk at https://koa.ipac.caltech.edu/cgi-bin/Helpdesk/nph-genTicketForm?projname=KOA "
   ]
  },
  {
   "cell_type": "markdown",
   "id": "9511ad85-13b2-453f-bcda-f90778593331",
   "metadata": {},
   "source": [
    "##  <p style=\"text-align:center;\"> <font color=\"#0b5394\">  Visit the Keck Observatory Archive at https://koa.ipac.caltech.edu/ </p>"
   ]
  }
 ],
 "metadata": {
  "kernelspec": {
   "display_name": "Python 3 (ipykernel)",
   "language": "python",
   "name": "python3"
  },
  "language_info": {
   "codemirror_mode": {
    "name": "ipython",
    "version": 3
   },
   "file_extension": ".py",
   "mimetype": "text/x-python",
   "name": "python",
   "nbconvert_exporter": "python",
   "pygments_lexer": "ipython3",
   "version": "3.12.4"
  }
 },
 "nbformat": 4,
 "nbformat_minor": 5
}
