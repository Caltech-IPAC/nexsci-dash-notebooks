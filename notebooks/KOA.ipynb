{
 "cells": [
  {
   "cell_type": "markdown",
   "id": "9f44d474",
   "metadata": {},
   "source": [
    "## KOA Notebook\n",
    "This notebook is focused on retrieving and spatially visualizing KOA metadata but also includes data from other sources.  First, the KOA observations from all instruments are searched for a cone on the sky centered on rho Ophiuchus (and optionally time range), then a list of protostars in that region is downloaded from CDS Vizier. A mosaic image from Spitzer is retrieved and processed slightly and finally the interactive visualizer showing all this is initialized."
   ]
  },
  {
   "cell_type": "markdown",
   "id": "3a227d14",
   "metadata": {},
   "source": [
    "## Setup\n",
    "Import some packages and define a utility function."
   ]
  },
  {
   "cell_type": "code",
   "execution_count": 3,
   "id": "a9ec6650",
   "metadata": {},
   "outputs": [],
   "source": [
    "# Allways run this cell.\n",
    "\n",
    "import os\n",
    "import urllib.request\n",
    "from astropy.io import ascii\n",
    "from MontagePy.main import mShrink\n",
    "\n",
    "\n",
    "# General function for retrieving URL to file\n",
    "\n",
    "def retrieve_url_to_file(url, filename):\n",
    "    \n",
    "    try:\n",
    "        urllib.request.urlretrieve(url, filename)\n",
    "        print(f\"Successfully downloaded {url} to {filename}\")\n",
    "    except Exception as e:\n",
    "        print(f\"An error occurred: {e}\")"
   ]
  },
  {
   "cell_type": "markdown",
   "id": "22549c85",
   "metadata": {},
   "source": [
    "## Parameters and Object Lookup"
   ]
  },
  {
   "cell_type": "code",
   "execution_count": 4,
   "id": "692bd477",
   "metadata": {},
   "outputs": [
    {
     "name": "stdout",
     "output_type": "stream",
     "text": [
      "object:     rho Oph\n",
      "region:     246.39632358927884 -23.44717083027709 0.5\n",
      "workspace:  ~/data/rho_Oph\n"
     ]
    }
   ],
   "source": [
    "from astroquery.simbad import Simbad\n",
    "\n",
    "object    = 'rho Oph'\n",
    "radius    = 0.5\n",
    "workspace = ('~/data/' + object).replace(' ', '_')\n",
    "\n",
    "result = Simbad.query_object(object)\n",
    "\n",
    "ra  = result[0]['ra']\n",
    "dec = result[0]['dec']\n",
    "\n",
    "print('object:    ', object)\n",
    "print('region:    ', ra, dec, radius)\n",
    "print('workspace: ', workspace)"
   ]
  },
  {
   "cell_type": "markdown",
   "id": "ab5f3bf8",
   "metadata": {},
   "source": [
    "## KOA Holdings\n",
    "\n",
    "The web services underpinning the KOA interactive interface are can also be accessed directly via URL.  First we determine which instruments have data for a user-selected region:"
   ]
  },
  {
   "cell_type": "code",
   "execution_count": 5,
   "id": "c6a5f4f2",
   "metadata": {},
   "outputs": [
    {
     "name": "stdout",
     "output_type": "stream",
     "text": [
      "Successfully downloaded https://koa.ipac.caltech.edu/cgi-bin/mSearch/nph-mSearch?ra=246.39632358927884&dec=-23.44717083027709&radius=0.5&tmin=-1.e9&tmax=1.e9 to /Users/jcg/data/rho_Oph/tbl/counts.tbl\n",
      "identifier count\n",
      "---------- -----\n",
      "    DEIMOS     2\n",
      "     HIRES    13\n",
      "       LWS     8\n",
      "     NIRC2  1740\n",
      "      NIRC    72\n",
      "     NIRES    18\n",
      "   NIRSPEC    61\n",
      "    OSIRIS    29\n",
      "    GUIDER   143\n",
      "Successfully downloaded https://koa.ipac.caltech.edu/cgi-bin/mSearch/nph-mSearch?ra=246.39632358927884&dec=-23.44717083027709&radius=0.5&tmin=-1.e9&tmax=1.e9&catalog=deimos to /Users/jcg/data/rho_Oph/tbl/deimos.tbl\n",
      "Successfully downloaded https://koa.ipac.caltech.edu/cgi-bin/mSearch/nph-mSearch?ra=246.39632358927884&dec=-23.44717083027709&radius=0.5&tmin=-1.e9&tmax=1.e9&catalog=hires to /Users/jcg/data/rho_Oph/tbl/hires.tbl\n",
      "Successfully downloaded https://koa.ipac.caltech.edu/cgi-bin/mSearch/nph-mSearch?ra=246.39632358927884&dec=-23.44717083027709&radius=0.5&tmin=-1.e9&tmax=1.e9&catalog=lws to /Users/jcg/data/rho_Oph/tbl/lws.tbl\n",
      "Successfully downloaded https://koa.ipac.caltech.edu/cgi-bin/mSearch/nph-mSearch?ra=246.39632358927884&dec=-23.44717083027709&radius=0.5&tmin=-1.e9&tmax=1.e9&catalog=nirc2 to /Users/jcg/data/rho_Oph/tbl/nirc2.tbl\n",
      "Successfully downloaded https://koa.ipac.caltech.edu/cgi-bin/mSearch/nph-mSearch?ra=246.39632358927884&dec=-23.44717083027709&radius=0.5&tmin=-1.e9&tmax=1.e9&catalog=nirc to /Users/jcg/data/rho_Oph/tbl/nirc.tbl\n",
      "Successfully downloaded https://koa.ipac.caltech.edu/cgi-bin/mSearch/nph-mSearch?ra=246.39632358927884&dec=-23.44717083027709&radius=0.5&tmin=-1.e9&tmax=1.e9&catalog=nires to /Users/jcg/data/rho_Oph/tbl/nires.tbl\n",
      "Successfully downloaded https://koa.ipac.caltech.edu/cgi-bin/mSearch/nph-mSearch?ra=246.39632358927884&dec=-23.44717083027709&radius=0.5&tmin=-1.e9&tmax=1.e9&catalog=nirspec to /Users/jcg/data/rho_Oph/tbl/nirspec.tbl\n",
      "Successfully downloaded https://koa.ipac.caltech.edu/cgi-bin/mSearch/nph-mSearch?ra=246.39632358927884&dec=-23.44717083027709&radius=0.5&tmin=-1.e9&tmax=1.e9&catalog=osiris to /Users/jcg/data/rho_Oph/tbl/osiris.tbl\n",
      "Successfully downloaded https://koa.ipac.caltech.edu/cgi-bin/mSearch/nph-mSearch?ra=246.39632358927884&dec=-23.44717083027709&radius=0.5&tmin=-1.e9&tmax=1.e9&catalog=guider to /Users/jcg/data/rho_Oph/tbl/guider.tbl\n"
     ]
    }
   ],
   "source": [
    "# Retrieve metadata from KOA. This requires ra, dec and radius (in degrees)\n",
    "# and supports a time range (in MJD):\n",
    "\n",
    "tblfile   = 'counts.tbl'\n",
    "\n",
    "ftbl = os.path.expanduser(workspace) + '/tbl/' + tblfile\n",
    "\n",
    "urlbase = 'https://koa.ipac.caltech.edu/cgi-bin/mSearch/nph-mSearch?'\n",
    "urlbase = urlbase + 'ra=' + str(ra) + '&dec=' + str(dec) \n",
    "urlbase = urlbase + '&radius=' + str(radius)\n",
    "urlbase = urlbase + '&tmin=-1.e9&tmax=1.e9'\n",
    "\n",
    "retrieve_url_to_file(urlbase, ftbl)\n",
    "\n",
    "data = ascii.read(ftbl)\n",
    "\n",
    "print(data)\n",
    "\n",
    "for row in data:\n",
    "    catalog = row['identifier'].lower()\n",
    "    \n",
    "    tblfile = catalog + '.tbl'\n",
    "\n",
    "    ftbl = os.path.expanduser(workspace) + '/tbl/' + tblfile \n",
    "\n",
    "    url = urlbase + '&catalog=' + catalog\n",
    "\n",
    "    retrieve_url_to_file(url, ftbl)\n"
   ]
  },
  {
   "cell_type": "markdown",
   "id": "6050df62",
   "metadata": {},
   "source": [
    "## $\\rho$ Ophiuchus Protostars\n",
    "\n",
    "Frequently, it helps to compare KOA search results with catalogs and/or image metadata from other sources. There are thousands of these available via TAP (Table Access Protocol) and SIA (Simple Image Access) services. Here we illustrate this by retrieving a table of protostars from CDS VizieR.  This particular catalog makes sense for the region we have chosen (rho Oph)."
   ]
  },
  {
   "cell_type": "code",
   "execution_count": 6,
   "id": "d3d6270e",
   "metadata": {},
   "outputs": [
    {
     "name": "stdout",
     "output_type": "stream",
     "text": [
      "Successfully downloaded http://tapvizier.u-strasbg.fr/TAPVizieR/tap/sync?request=doquery&lang=adql&query=select+*+from+\"J/ApJ/835/3/table1\"&format=csv to /Users/jcg/data/rhoOph/tbl/protostars.csv\n",
      "Converted to /Users/jcg/data/rhoOph/tbl/protostars.tbl\n"
     ]
    }
   ],
   "source": [
    "from astropy.io import ascii\n",
    "\n",
    "# Retrieve data from CDS VizieR TAP service:\n",
    "# \"218GHz obs. of embedded protostars in Ophiuchus (Lindberg+, 2017)\" [J/ApJ/835/3]\n",
    "\n",
    "workspace = '~/data/rhoOph'\n",
    "csvfile   = 'protostars.csv'\n",
    "tblfile   = 'protostars.tbl'\n",
    "\n",
    "fcsv = os.path.expanduser(workspace) + '/tbl/' + csvfile\n",
    "ftbl = os.path.expanduser(workspace) + '/tbl/' + tblfile\n",
    "\n",
    "url = 'http://tapvizier.u-strasbg.fr/TAPVizieR/tap/sync?'\n",
    "url = url + 'request=doquery&lang=adql&query='\n",
    "url = url + 'select+*+from+\"J/ApJ/835/3/table1\"'\n",
    "url = url + \"&format=csv\"\n",
    "\n",
    "retrieve_url_to_file(url, fcsv)\n",
    "\n",
    "\n",
    "# Convert VizieR CSV format to IPAC table\n",
    "\n",
    "data = ascii.read(fcsv)\n",
    "data.rename_column('RAJ2000', 'ra')\n",
    "data.rename_column('DEJ2000', 'dec')\n",
    "data.write(ftbl, format=\"ipac\", overwrite=True)\n",
    "\n",
    "print('Converted to', ftbl)"
   ]
  },
  {
   "cell_type": "markdown",
   "id": "c85f2bcb",
   "metadata": {},
   "source": [
    "## Download Background Image\n",
    "\n",
    "For the region visualizer below we need some sort of FITS image.  If you have your own or if there is one available on the network, we can download that.  There are a few survey datasets from which we can generate an image (<i>e.g.</i>, 2MASS) though perhaps not at too high a resolution.  As a fallback, we can generate a blank image with whatever WCS we choose, basically resulting in a map of the observations with no underlying image.  \n",
    "\n",
    "For this example, we are going to use a mosaic made from Spitzer image data for the rho Oph region.  This takes a little time to download, so be patient:"
   ]
  },
  {
   "cell_type": "code",
   "execution_count": 7,
   "id": "ec6e253e",
   "metadata": {},
   "outputs": [
    {
     "name": "stdout",
     "output_type": "stream",
     "text": [
      "Successfully downloaded https://irsa.ipac.caltech.edu/data/SPITZER/Enhanced/SEIP/images/4/0015/40015561/7/40015561-87/40015561.40015561-87.IRAC.1.mosaic.fits to /Users/jcg/data/rhoOph/fits/rhoOph_large.fits\n"
     ]
    }
   ],
   "source": [
    "file = 'rhoOph_large.fits'\n",
    "\n",
    "fimg = os.path.expanduser(workspace) + '/fits/' + file\n",
    "\n",
    "url = 'https://irsa.ipac.caltech.edu/data/SPITZER/Enhanced/SEIP/images/'\n",
    "url = url + '4/0015/40015561/7/40015561-87/40015561.40015561-87.IRAC.1.mosaic.fits'\n",
    "\n",
    "retrieve_url_to_file(url, fimg)"
   ]
  },
  {
   "cell_type": "markdown",
   "id": "0e53f197",
   "metadata": {},
   "source": [
    "### Shrink the Image\n",
    "\n",
    "Depending on your image and application, it may make sense to resize the FITS image.  In our case the image is 4000x4000 pixels, so shrinking it in both dimensions by a factor of four will speed up the redraws."
   ]
  },
  {
   "cell_type": "code",
   "execution_count": 8,
   "id": "d5c4af25",
   "metadata": {},
   "outputs": [
    {
     "data": {
      "text/plain": [
       "{'status': '0', 'time': 0.0}"
      ]
     },
     "execution_count": 8,
     "metadata": {},
     "output_type": "execute_result"
    }
   ],
   "source": [
    "infile        = 'rhoOph_large.fits'\n",
    "outfile       = 'rhoOph.fits'\n",
    "shrink_factor = 4\n",
    "\n",
    "fin  = os.path.expanduser(workspace) + '/fits/' + infile\n",
    "fout = os.path.expanduser(workspace) + '/fits/' + outfile\n",
    "\n",
    "mShrink(fin, fout, shrink_factor)"
   ]
  },
  {
   "cell_type": "markdown",
   "id": "12f33ac9",
   "metadata": {},
   "source": [
    "### Defining the Layout of the Display\n",
    "\n",
    "Unless we tell it, there is no way for the viewer to decide what data from the workspace to display, how to stretch the image (or images in the case of 3-color data), what symbols to use for point source catalogs (and their scaling an color), whether to show coordinate grids, and so on.\n",
    "\n",
    "Some displays can be handled with defaults but this one is a little too complicated for that to work well.  So we will go the other route here of defining everything ourselves through a JSON layout file. For more information on mViewer, see http://montage.ipac.caltech.edu/mViewer."
   ]
  },
  {
   "cell_type": "code",
   "execution_count": 9,
   "id": "09e79056",
   "metadata": {},
   "outputs": [
    {
     "name": "stdout",
     "output_type": "stream",
     "text": [
      "JSON layout written to /Users/jcg/data/rhoOph/layout.json\n"
     ]
    }
   ],
   "source": [
    "import json\n",
    "\n",
    "layout = {\n",
    "  \"Image Label\": \"rho Oph: Spitzer IRAC\",\n",
    "\n",
    "  \"Grayscale\":\n",
    "  [\n",
    "    {\n",
    "      \"File\": \"fits/IRAC1.fits\",\n",
    "      \"Color Table\": \"Grayscale\",\n",
    "      \"Stretch Mode\": \"Gaussian-log\",\n",
    "      \"Min\": \"-0.5\", \"Min Units\": \"sigma\",\n",
    "      \"Max\": \"max\", \"Max Units\": \"sigma\"\n",
    "    }\n",
    "  ],\n",
    "\n",
    "  \"Overlays\":\n",
    "  [\n",
    "    {\"Type\": \"Catalog\", \"Color\": \"ffffff\", \"File\": \"tbl/deimos.tbl\",     \"Size of Ref Value\":  3.0, \"Symbol\": \"box\"},\n",
    "    {\"Type\": \"Catalog\", \"Color\": \"ff8080\", \"File\": \"tbl/hires.tbl\",      \"Size of Ref Value\":  3.0, \"Symbol\": \"box\"},\n",
    "    {\"Type\": \"Catalog\", \"Color\": \"8080ff\", \"File\": \"tbl/lris.tbl\",       \"Size of Ref Value\":  3.0, \"Symbol\": \"box\"},\n",
    "    {\"Type\": \"Catalog\", \"Color\": \"ffff80\", \"File\": \"tbl/lws.tbl\",        \"Size of Ref Value\":  3.0, \"Symbol\": \"box\"},\n",
    "    {\"Type\": \"Catalog\", \"Color\": \"80ffff\", \"File\": \"tbl/nirc.tbl\",       \"Size of Ref Value\":  3.0, \"Symbol\": \"box\"},\n",
    "    {\"Type\": \"Catalog\", \"Color\": \"ccccff\", \"File\": \"tbl/nirc2.tbl\",      \"Size of Ref Value\":  3.0, \"Symbol\": \"box\"},\n",
    "    {\"Type\": \"Catalog\", \"Color\": \"ffbf00\", \"File\": \"tbl/osiris.tbl\",     \"Size of Ref Value\":  3.0, \"Symbol\": \"box\"},\n",
    "    {\"Type\": \"Catalog\", \"Color\": \"80ff80\", \"File\": \"tbl/esi.tbl\",        \"Size of Ref Value\":  3.0, \"Symbol\": \"box\"},\n",
    "    {\"Type\": \"Catalog\", \"Color\": \"ff80ff\", \"File\": \"tbl/nires.tbl\",      \"Size of Ref Value\":  3.0, \"Symbol\": \"box\"},\n",
    "    {\"Type\": \"Catalog\", \"Color\": \"ffaaaa\", \"File\": \"tbl/nirspec.tbl\",    \"Size of Ref Value\":  3.0, \"Symbol\": \"box\"},\n",
    "    {\"Type\": \"Catalog\", \"Color\": \"ffffff\", \"File\": \"tbl/protostars.tbl\", \"Size of Ref Value\":  5.0, \"Symbol\": \"circle\"},\n",
    "    {\"Type\": \"Eq grid\", \"Color\": \"808000\"}\n",
    "  ]\n",
    "}\n",
    "\n",
    "filename = os.path.expanduser(workspace) + \"/layout.json\"\n",
    "\n",
    "with open(filename, 'w') as file:\n",
    "    json.dump(layout, file, indent=2)\n",
    "\n",
    "print(\"JSON layout written to\", filename)"
   ]
  },
  {
   "cell_type": "markdown",
   "id": "2f33bc69",
   "metadata": {},
   "source": [
    "## Region Vizualization\n",
    "\n",
    "Please read this description before running the next cell.  The 'koaViewer' app helps you visualize the data you have downloaded into the workspace.  This workspace contains a 'tbl' subdirectory with all the table files you have downloaded (both source tables and image metadata tables) and a 'fits' directory with a FITS image file or files.  The data can easily get too involved for a single simple display (though what we have done through this Notebook is simple enough), but even here someone has to specify things like which tables to actually display, the colors of overlays in the image display, symbol sizes, <i>etc.</i>\n",
    "\n",
    "So the actual image display gets defined by a JSON structure file ('layout.json') in the top level of the workspace.  \n",
    "\n",
    "There are three ways to build this JSON.  If no layout.json exists when koaViewer starts up, it will analyze the contents of the workspace and take a guess at the structure using a few simple rules.  This is likely to be sub-optimal.  Alternatively, knowing what we have done in the Notebook to construct the workspace, we can construct the JSON manually (<i>i.e.,</i> setting up the JSON in a Notebook cell).  Finally, once we have a starting point, the koaViewer application has layout editing pop-ups where we can fine tune the details (like color and column-base symbol sizes).\n",
    "\n",
    "Any changes to the this Notebook (such as the location/search radius in the first step) can affect how many tables there are to display, hard-coded JSON is probably inadequate, so we will go with first option and let koaViewer define the JSON we start with.\n",
    "\n",
    "To start koaViewer, run the next cell and activate the link it produces."
   ]
  },
  {
   "cell_type": "code",
   "execution_count": 11,
   "id": "74fdb47f",
   "metadata": {},
   "outputs": [
    {
     "name": "stdout",
     "output_type": "stream",
     "text": [
      "Dash app running on http://127.0.0.1:62625/\n"
     ]
    }
   ],
   "source": [
    "from koaviewer import koaViewer\n",
    "\n",
    "viewer = koaViewer()\n",
    "\n",
    "viewer.run(workspace)"
   ]
  },
  {
   "cell_type": "code",
   "execution_count": null,
   "id": "4df86e14",
   "metadata": {},
   "outputs": [],
   "source": []
  }
 ],
 "metadata": {
  "kernelspec": {
   "display_name": "Python 3 (ipykernel)",
   "language": "python",
   "name": "python3"
  },
  "language_info": {
   "codemirror_mode": {
    "name": "ipython",
    "version": 3
   },
   "file_extension": ".py",
   "mimetype": "text/x-python",
   "name": "python",
   "nbconvert_exporter": "python",
   "pygments_lexer": "ipython3",
   "version": "3.12.7"
  }
 },
 "nbformat": 4,
 "nbformat_minor": 5
}
